{
 "cells": [
  {
   "cell_type": "markdown",
   "metadata": {},
   "source": [
    "# Lunar Diurnal test case\n",
    "\n"
   ]
  },
  {
   "cell_type": "markdown",
   "metadata": {},
   "source": [
    "## Setup and Imports"
   ]
  },
  {
   "cell_type": "code",
   "execution_count": 1,
   "metadata": {},
   "outputs": [
    {
     "name": "stdout",
     "output_type": "stream",
     "text": [
      "Imports completed successfully!\n"
     ]
    }
   ],
   "source": [
    "import sys\n",
    "import os\n",
    "from pathlib import Path\n",
    "\n",
    "# Add parent directory to path for imports\n",
    "sys.path.insert(0, os.path.abspath(os.path.join(os.getcwd(), '..')))\n",
    "\n",
    "import numpy as np\n",
    "import matplotlib.pyplot as plt\n",
    "import matplotlib.dates as mdates\n",
    "from datetime import datetime, timedelta\n",
    "\n",
    "# Import thermal model components\n",
    "from core.config_manager import ConfigManager, create_default_base_config\n",
    "from core.thermal_simulation import ThermalSimulator\n",
    "from modelmain import Simulator\n",
    "from config import SimulationConfig\n",
    "from modelmain import fit_blackbody_wn_banded, max_btemp_blackbody, emissionT\n",
    "\n",
    "from radiance_processor import calculate_radiances_from_results, recompute_radiance_with_angles\n",
    "\n",
    "\n",
    "# Set up plotting style\n",
    "plt.style.use('default')\n",
    "plt.rcParams['figure.figsize'] = (12, 8)\n",
    "plt.rcParams['font.size'] = 11\n",
    "plt.rcParams['lines.linewidth'] = 2\n",
    "\n",
    "print(\"Imports completed successfully!\")"
   ]
  },
  {
   "cell_type": "markdown",
   "metadata": {},
   "source": [
    "## Create and Load Base Simulation Configuration\n",
    "\n",
    "Create and load in a default config file. "
   ]
  },
  {
   "cell_type": "code",
   "execution_count": 2,
   "metadata": {},
   "outputs": [
    {
     "name": "stdout",
     "output_type": "stream",
     "text": [
      "Default configuration saved to: ../configs/base_configs/analysis_template.yaml\n",
      "Configuration created at: ../configs/base_configs/analysis_template.yaml\n",
      "Loaded configuration.\n"
     ]
    }
   ],
   "source": [
    "# Option 1: Create a new default configuration\n",
    "config_path = \"../configs/base_configs/analysis_template.yaml\"\n",
    "\n",
    "# Create config directory if it doesn't exist\n",
    "os.makedirs(os.path.dirname(config_path), exist_ok=True)\n",
    "\n",
    "# Create default configuration for analysis\n",
    "create_default_base_config(config_path)\n",
    "\n",
    "# Load the configuration\n",
    "config_manager = ConfigManager(config_path)\n",
    "\n",
    "# Create base configuration\n",
    "base_config = config_manager.create_config()\n",
    "\n",
    "print(f\"Configuration created at: {config_path}\")\n",
    "print(f\"Loaded configuration.\")\n"
   ]
  },
  {
   "cell_type": "markdown",
   "metadata": {},
   "source": [
    "## Run Isothermal Spectrum Simulation\n",
    "\n"
   ]
  },
  {
   "cell_type": "code",
   "execution_count": null,
   "metadata": {},
   "outputs": [
    {
     "name": "stdout",
     "output_type": "stream",
     "text": [
      "Running baseline simulation...\n",
      "Configuration: Et=10000.0, k_dust=0.00055, thickness=5.0m\n",
      "Using depth-dependent properties:\n",
      "  Surface density: 1100.0 kg/m³\n",
      "  Deep density: 1800.0 kg/m³\n",
      "  Surface conductivity: 7.40e-04 W/m/K\n",
      "  Deep conductivity: 3.40e-03 W/m/K\n",
      "Time step: 3.065335 s, Steps per day: 832354\n",
      "Initial temperature-dependent heat capacity calculated (T=260.0K)\n",
      "  cp range: 693.1 - 693.1 J/kg/K\n",
      "Temperature-dependent property tracking initialized\n",
      "Thermal evolution mode: two_wave\n",
      "Time step 0/1664708\n"
     ]
    }
   ],
   "source": [
    "# Modify base configuration for our analysis\n",
    "settings = {\n",
    "    'diurnal': True,                       # Steady state simulation\n",
    "    'sun': True,                           # Include solar heating\n",
    "    'T_fixed': False,                        # Temperature is fixed, prevents thermal evolution\n",
    "    'enable_diurnal_convergence': False,\n",
    "    'thermal_evolution_mode': 'two_wave',   #Run thermal evolution later with broadband vis (turned off) and broadband thermal. \n",
    "    'RTE_solver': 'disort',\n",
    "    'output_radiance_mode': 'two_wave',       #Compute spectral radiance in thermal only. \n",
    "    'depth_dependent_properties': True,\n",
    "    'temperature_dependent_properties': True,\n",
    "    'temp_dependent_cp': True,\n",
    "    'temp_dependent_k': False,      #Only use for non-RTE model. Temperature-dependence of conductivity comes naturally in RTE model. \n",
    "    'temp_change_threshold': 1.0,\n",
    "    'P': 29.5306*24*60*60,\n",
    "    'dtfac': 50000,\n",
    "    'minsteps': 100000,\n",
    "    'ndays': 2,\n",
    "    'observer_mu': 1.0,                     # Observer zenith angle (0 for nadir)\n",
    "    'Et': 10000.0,                          # Mean extinction coefficient. For phi=0.37, 50300. For phi=0.60, 81600. \n",
    "    'eta': 1.0,                             #Vis/thermal extinction coefficient ratio. \n",
    "    'ssalb_therm': 0.1,                     # Single scattering albedo for thermal radiation (average from mie code)\n",
    "    'g_therm': 0.0,                         # Asymmetry parameter for thermal radiation (average from mie code)\n",
    "    'ssalb_vis': 0.50,\n",
    "    'g_vis': 0.0,\n",
    "    'R_base': 0.0,                          # Global reflectivity value for substrate     \n",
    "    'disort_space_temp': 0.0,              # Cold shroud temperature\n",
    "    'single_layer': True,                   # Use single-layer model\n",
    "    'dust_thickness': 5.0,                 # 10 cm\n",
    "    'T_bottom': 260,                        # Sample base fixed at 500 K\n",
    "    'bottom_bc': 'dirichlet',               # Bottom boundary condition \n",
    "    'crater': False,\n",
    "    'nstr_out': 8,                # Number of streams for output\n",
    "    'nmom_out': 8,                # Number of moments for output\n",
    "    'nstr': 4,\n",
    "    'nmom': 4\n",
    "}\n",
    "\n",
    "# Create configuration with overrides\n",
    "config1 = config_manager.create_config(settings)\n",
    "\n",
    "print(\"Running baseline simulation...\")\n",
    "print(f\"Configuration: Et={config1.Et}, k_dust={config1.k_dust}, thickness={config1.dust_thickness}m\")\n",
    "\n",
    "# Run simulation\n",
    "sim1 = Simulator(config1)\n",
    "T_out1, phi_vis1, phi_therm1, T_surf1, t_out1 = sim1.run()\n",
    "\n",
    "\n",
    "print(f\"Simulation completed! Output shape: {T_out1.shape}\")\n",
    "print(f\"Time range: {t_out1[0]:.0f} to {t_out1[-1]:.0f} seconds\")\n",
    "print(f\"Surface temperature range: {T_surf1.min():.1f} to {T_surf1.max():.1f} K\")"
   ]
  },
  {
   "cell_type": "markdown",
   "metadata": {},
   "source": [
    "## Plot hapke diurnal model results"
   ]
  },
  {
   "cell_type": "code",
   "execution_count": null,
   "metadata": {},
   "outputs": [],
   "source": [
    "from matplotlib.ticker import FuncFormatter, LogLocator\n",
    "\n",
    "mu = 1.0\n",
    "btemp = emissionT(T_out1[1:-1,:], sim1.grid.x_boundaries,0.0,mu)\n",
    "plt.plot(t_out1, btemp, label='Hapke BTemp', color='blue')\n",
    "plt.xlabel('Time (s)')\n",
    "plt.ylabel('Brightness Temperature (K)')\n",
    "plt.legend()\n",
    "plt.show()\n",
    "\n",
    "# Plot temperature profiles vs depth (log scale) with a second x-axis for tau (opacity, non-log)\n",
    "fig, ax1 = plt.subplots()\n",
    "time_fracs = np.linspace(0, 1, len(sim1.t_out))\n",
    "plot_fracs = np.linspace(0, 0.9, 10)\n",
    "for frac in plot_fracs:\n",
    "    idx = np.argmin(np.abs(time_fracs - frac))\n",
    "    if hasattr(sim1.cfg.Et,'shape'):\n",
    "        x_m = sim1.grid.x[1:] / sim1.cfg.Et[1:]\n",
    "    else:\n",
    "        x_m = sim1.grid.x[1:] / sim1.cfg.Et\n",
    "    ax1.semilogx(x_m, T_out1[1:, idx], label=f't+{frac:.1f}P')\n",
    "\n",
    "ax1.set_xlabel('Depth')\n",
    "ax1.set_ylabel('Temperature (K)')\n",
    "ax1.legend()\n",
    "\n",
    "# Set custom ticks for more human-readable units\n",
    "def depth_formatter(x, pos):\n",
    "    if x < 1e-3:\n",
    "        return f\"{x*1e6:.0f} µm\"\n",
    "    elif x < 1:\n",
    "        return f\"{x*1e3:.2f} mm\"\n",
    "    else:\n",
    "        return f\"{x:.2f} m\"\n",
    "\n",
    "ax1.set_xscale('log')\n",
    "ax1.xaxis.set_major_locator(LogLocator(base=10))\n",
    "ax1.xaxis.set_major_formatter(FuncFormatter(depth_formatter))\n",
    "\n",
    "# Add a second x-axis for tau (opacity)\n",
    "def tau_formatter(tau, pos):\n",
    "    return f\"{tau:.2f}\"\n",
    "\n",
    "# The tau values (opacity) are just sim1.grid.x[1:]\n",
    "tau_vals = sim1.grid.x[1:]\n",
    "\n",
    "# Create the secondary axis\n",
    "ax2 = ax1.twiny()\n",
    "ax2.set_xlim(ax1.get_xlim())\n",
    "# Convert the log-scale x_m limits back to tau\n",
    "xlim = ax1.get_xlim()\n",
    "if hasattr(sim1.cfg.Et,'shape'):\n",
    "    tau_min = xlim[0] * sim1.cfg.Et[1]\n",
    "    tau_max = xlim[1] * sim1.cfg.Et[-1]\n",
    "else:\n",
    "    tau_min = xlim[0] * sim1.cfg.Et\n",
    "    tau_max = xlim[1] * sim1.cfg.Et\n",
    "ax2.set_xscale('log')\n",
    "ax2.set_xlim(tau_min, tau_max)\n",
    "ax2.xaxis.set_major_locator(LogLocator(base=10))\n",
    "ax2.xaxis.set_major_formatter(FuncFormatter(tau_formatter))\n",
    "ax2.set_xlabel('Optical Depth (tau)')\n",
    "\n",
    "plt.tight_layout()\n",
    "plt.show()\n",
    "\n"
   ]
  },
  {
   "cell_type": "code",
   "execution_count": null,
   "metadata": {},
   "outputs": [],
   "source": [
    "settings2 = settings.copy()\n",
    "\n",
    "settings2['use_RTE'] = False\n",
    "settings2['albedo'] = 0.1159\n",
    "settings2['em'] = 0.9503\n",
    "settings2['temp_dependent_k'] = True\n",
    "settings2['temp_change_threshold'] = 0.001\n",
    "settings2['k_dust_auto'] = False\n",
    "settings2['minsteps'] = 2000000\n",
    "settings2['flay'] = 0.01\n",
    "\n",
    "config2 = config_manager.create_config(settings2)\n",
    "\n",
    "print(\"Running baseline simulation...\")\n",
    "\n",
    "# Run simulation\n",
    "sim2 = Simulator(config2)\n",
    "T_out2, phi_vis2, phi_therm2, T_surf2, t_out2 = sim2.run()"
   ]
  },
  {
   "cell_type": "code",
   "execution_count": null,
   "metadata": {},
   "outputs": [],
   "source": [
    "from matplotlib.ticker import FuncFormatter, LogLocator\n",
    "\n",
    "mu = 1.0\n",
    "btemp = emissionT(T_out1[1:-1,:], sim1.grid.x_boundaries,0.0,mu)\n",
    "plt.plot(t_out1, btemp, label='Hapke BTemp', color='blue')\n",
    "plt.plot(t_out2,T_surf2,label='Traditional model surface temp', color='red')\n",
    "plt.plot(t_out2,T_out2[1,:])\n",
    "plt.grid()\n",
    "plt.xlabel('Time (s)')\n",
    "plt.ylabel('Brightness Temperature (K)')\n",
    "plt.legend()\n",
    "plt.show()\n",
    "\n",
    "\n",
    "fig, ax1 = plt.subplots()\n",
    "time_fracs = np.linspace(0, 1, len(sim2.t_out))\n",
    "plot_fracs = np.linspace(0, 0.9, 10)\n",
    "for frac in plot_fracs:\n",
    "    idx = np.argmin(np.abs(time_fracs - frac))\n",
    "    x_m = sim2.grid.x[1:] / sim2.cfg.Et[1:]\n",
    "    ax1.semilogx(x_m, T_out2[1:, idx], label=f't+{frac:.1f}P')\n",
    "\n",
    "ax1.set_xlabel('Depth')\n",
    "ax1.set_ylabel('Temperature (K)')\n",
    "ax1.legend()\n"
   ]
  }
 ],
 "metadata": {
  "kernelspec": {
   "display_name": "env",
   "language": "python",
   "name": "python3"
  },
  "language_info": {
   "codemirror_mode": {
    "name": "ipython",
    "version": 3
   },
   "file_extension": ".py",
   "mimetype": "text/x-python",
   "name": "python",
   "nbconvert_exporter": "python",
   "pygments_lexer": "ipython3",
   "version": "3.13.3"
  }
 },
 "nbformat": 4,
 "nbformat_minor": 4
}
